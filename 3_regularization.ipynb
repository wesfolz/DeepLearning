{
 "cells": [
  {
   "cell_type": "markdown",
   "metadata": {
    "colab_type": "text",
    "deletable": true,
    "editable": true,
    "id": "kR-4eNdK6lYS"
   },
   "source": [
    "Deep Learning\n",
    "=============\n",
    "\n",
    "Assignment 3\n",
    "------------\n",
    "\n",
    "Previously in `2_fullyconnected.ipynb`, you trained a logistic regression and a neural network model.\n",
    "\n",
    "The goal of this assignment is to explore regularization techniques."
   ]
  },
  {
   "cell_type": "code",
   "execution_count": 3,
   "metadata": {
    "cellView": "both",
    "colab": {
     "autoexec": {
      "startup": false,
      "wait_interval": 0
     }
    },
    "colab_type": "code",
    "collapsed": true,
    "deletable": true,
    "editable": true,
    "id": "JLpLa8Jt7Vu4"
   },
   "outputs": [],
   "source": [
    "# These are all the modules we'll be using later. Make sure you can import them\n",
    "# before proceeding further.\n",
    "from __future__ import print_function\n",
    "import numpy as np\n",
    "import tensorflow as tf\n",
    "from six.moves import cPickle as pickle\n",
    "import math"
   ]
  },
  {
   "cell_type": "markdown",
   "metadata": {
    "colab_type": "text",
    "deletable": true,
    "editable": true,
    "id": "1HrCK6e17WzV"
   },
   "source": [
    "First reload the data we generated in `1_notmnist.ipynb`."
   ]
  },
  {
   "cell_type": "code",
   "execution_count": 4,
   "metadata": {
    "cellView": "both",
    "colab": {
     "autoexec": {
      "startup": false,
      "wait_interval": 0
     },
     "output_extras": [
      {
       "item_id": 1
      }
     ]
    },
    "colab_type": "code",
    "collapsed": false,
    "deletable": true,
    "editable": true,
    "executionInfo": {
     "elapsed": 11777,
     "status": "ok",
     "timestamp": 1449849322348,
     "user": {
      "color": "",
      "displayName": "",
      "isAnonymous": false,
      "isMe": true,
      "permissionId": "",
      "photoUrl": "",
      "sessionId": "0",
      "userId": ""
     },
     "user_tz": 480
    },
    "id": "y3-cj1bpmuxc",
    "outputId": "e03576f1-ebbe-4838-c388-f1777bcc9873"
   },
   "outputs": [
    {
     "name": "stdout",
     "output_type": "stream",
     "text": [
      "Training set (200000, 28, 28) (200000,)\n",
      "Validation set (10000, 28, 28) (10000,)\n",
      "Test set (10000, 28, 28) (10000,)\n"
     ]
    }
   ],
   "source": [
    "pickle_file = 'notMNIST.pickle'\n",
    "\n",
    "with open(pickle_file, 'rb') as f:\n",
    "  save = pickle.load(f)\n",
    "  train_dataset = save['train_dataset']\n",
    "  train_labels = save['train_labels']\n",
    "  valid_dataset = save['valid_dataset']\n",
    "  valid_labels = save['valid_labels']\n",
    "  test_dataset = save['test_dataset']\n",
    "  test_labels = save['test_labels']\n",
    "  del save  # hint to help gc free up memory\n",
    "  print('Training set', train_dataset.shape, train_labels.shape)\n",
    "  print('Validation set', valid_dataset.shape, valid_labels.shape)\n",
    "  print('Test set', test_dataset.shape, test_labels.shape)"
   ]
  },
  {
   "cell_type": "markdown",
   "metadata": {
    "colab_type": "text",
    "deletable": true,
    "editable": true,
    "id": "L7aHrm6nGDMB"
   },
   "source": [
    "Reformat into a shape that's more adapted to the models we're going to train:\n",
    "- data as a flat matrix,\n",
    "- labels as float 1-hot encodings."
   ]
  },
  {
   "cell_type": "code",
   "execution_count": 5,
   "metadata": {
    "cellView": "both",
    "colab": {
     "autoexec": {
      "startup": false,
      "wait_interval": 0
     },
     "output_extras": [
      {
       "item_id": 1
      }
     ]
    },
    "colab_type": "code",
    "collapsed": false,
    "deletable": true,
    "editable": true,
    "executionInfo": {
     "elapsed": 11728,
     "status": "ok",
     "timestamp": 1449849322356,
     "user": {
      "color": "",
      "displayName": "",
      "isAnonymous": false,
      "isMe": true,
      "permissionId": "",
      "photoUrl": "",
      "sessionId": "0",
      "userId": ""
     },
     "user_tz": 480
    },
    "id": "IRSyYiIIGIzS",
    "outputId": "3f8996ee-3574-4f44-c953-5c8a04636582"
   },
   "outputs": [
    {
     "name": "stdout",
     "output_type": "stream",
     "text": [
      "Training set (200000, 784) (200000, 10)\n",
      "Validation set (10000, 784) (10000, 10)\n",
      "Test set (10000, 784) (10000, 10)\n"
     ]
    }
   ],
   "source": [
    "image_size = 28\n",
    "num_labels = 10\n",
    "\n",
    "def reformat(dataset, labels):\n",
    "  dataset = dataset.reshape((-1, image_size * image_size)).astype(np.float32)\n",
    "  # Map 1 to [0.0, 1.0, 0.0 ...], 2 to [0.0, 0.0, 1.0 ...]\n",
    "  labels = (np.arange(num_labels) == labels[:,None]).astype(np.float32)\n",
    "  return dataset, labels\n",
    "train_dataset, train_labels = reformat(train_dataset, train_labels)\n",
    "valid_dataset, valid_labels = reformat(valid_dataset, valid_labels)\n",
    "test_dataset, test_labels = reformat(test_dataset, test_labels)\n",
    "print('Training set', train_dataset.shape, train_labels.shape)\n",
    "print('Validation set', valid_dataset.shape, valid_labels.shape)\n",
    "print('Test set', test_dataset.shape, test_labels.shape)"
   ]
  },
  {
   "cell_type": "code",
   "execution_count": 6,
   "metadata": {
    "cellView": "both",
    "colab": {
     "autoexec": {
      "startup": false,
      "wait_interval": 0
     }
    },
    "colab_type": "code",
    "collapsed": true,
    "deletable": true,
    "editable": true,
    "id": "RajPLaL_ZW6w"
   },
   "outputs": [],
   "source": [
    "def accuracy(predictions, labels):\n",
    "  return (100.0 * np.sum(np.argmax(predictions, 1) == np.argmax(labels, 1))\n",
    "          / predictions.shape[0])\n",
    "\n",
    "batch_size = 128\n",
    "def runSession(myGraph):\n",
    "    num_steps = 10001#3001\n",
    "\n",
    "    with tf.Session(graph=myGraph) as session:\n",
    "      tf.global_variables_initializer().run()\n",
    "      print(\"Initialized\")\n",
    "      for step in range(num_steps):\n",
    "        # Pick an offset within the training data, which has been randomized.\n",
    "        # Note: we could use better randomization across epochs.\n",
    "        offset = (step * batch_size) % (train_labels.shape[0] - batch_size)\n",
    "        # Generate a minibatch.\n",
    "        batch_data = train_dataset[offset:(offset + batch_size), :]\n",
    "        batch_labels = train_labels[offset:(offset + batch_size), :]\n",
    "        # Prepare a dictionary telling the session where to feed the minibatch.\n",
    "        # The key of the dictionary is the placeholder node of the graph to be fed,\n",
    "        # and the value is the numpy array to feed to it.\n",
    "        feed_dict = {tf_train_dataset : batch_data, tf_train_labels : batch_labels}\n",
    "        _, l, predictions = session.run(\n",
    "          [optimizer, loss, train_prediction], feed_dict=feed_dict)\n",
    "        if (step % 500 == 0):\n",
    "          print(\"Minibatch loss at step %d: %f\" % (step, l))\n",
    "          print(\"Minibatch accuracy: %.1f%%\" % accuracy(predictions, batch_labels))\n",
    "          print(\"Validation accuracy: %.1f%%\" % accuracy(\n",
    "            valid_prediction.eval(), valid_labels))\n",
    "      print(\"Test accuracy: %.1f%%\" % accuracy(test_prediction.eval(), test_labels))"
   ]
  },
  {
   "cell_type": "markdown",
   "metadata": {
    "colab_type": "text",
    "deletable": true,
    "editable": true,
    "id": "sgLbUAQ1CW-1"
   },
   "source": [
    "---\n",
    "Problem 1\n",
    "---------\n",
    "\n",
    "Introduce and tune L2 regularization for both logistic and neural network models. Remember that L2 amounts to adding a penalty on the norm of the weights to the loss. In TensorFlow, you can compute the L2 loss for a tensor `t` using `nn.l2_loss(t)`. The right amount of regularization should improve your validation / test accuracy.\n",
    "\n",
    "---"
   ]
  },
  {
   "cell_type": "code",
   "execution_count": 17,
   "metadata": {
    "collapsed": false,
    "deletable": true,
    "editable": true
   },
   "outputs": [],
   "source": [
    "beta = 0.002\n",
    "graph = tf.Graph()\n",
    "with graph.as_default():\n",
    "\n",
    "  # Input data. For the training data, we use a placeholder that will be fed\n",
    "  # at run time with a training minibatch.\n",
    "  tf_train_dataset = tf.placeholder(tf.float32,\n",
    "                                    shape=(batch_size, image_size * image_size))\n",
    "  tf_train_labels = tf.placeholder(tf.float32, shape=(batch_size, num_labels))\n",
    "  tf_valid_dataset = tf.constant(valid_dataset)\n",
    "  tf_test_dataset = tf.constant(test_dataset)\n",
    "  \n",
    "  # Variables.\n",
    "  weights = tf.Variable(\n",
    "    tf.truncated_normal([image_size * image_size, num_labels]))\n",
    "  biases = tf.Variable(tf.zeros([num_labels]))\n",
    "  \n",
    "  # Training computation.\n",
    "  logits = tf.matmul(tf_train_dataset, weights) + biases\n",
    "  loss = tf.reduce_mean(\n",
    "    tf.nn.softmax_cross_entropy_with_logits(labels=tf_train_labels, logits=logits)) + beta*tf.nn.l2_loss(weights)\n",
    "  \n",
    "  # Optimizer.\n",
    "  optimizer = tf.train.GradientDescentOptimizer(0.5).minimize(loss)\n",
    "  \n",
    "  # Predictions for the training, validation, and test data.\n",
    "  train_prediction = tf.nn.softmax(logits)\n",
    "  valid_prediction = tf.nn.softmax(\n",
    "    tf.matmul(tf_valid_dataset, weights) + biases)\n",
    "  test_prediction = tf.nn.softmax(tf.matmul(tf_test_dataset, weights) + biases)"
   ]
  },
  {
   "cell_type": "code",
   "execution_count": 18,
   "metadata": {
    "collapsed": false,
    "deletable": true,
    "editable": true
   },
   "outputs": [],
   "source": [
    "numHiddenNodes = 1024\n",
    "nnGraph = tf.Graph()\n",
    "with nnGraph.as_default():\n",
    "\n",
    "  # Input data. For the training data, we use a placeholder that will be fed\n",
    "  # at run time with a training minibatch.\n",
    "  tf_train_dataset = tf.placeholder(tf.float32,\n",
    "                                    shape=(batch_size, image_size * image_size)) #[128, 784]\n",
    "  tf_train_labels = tf.placeholder(tf.float32, shape=(batch_size, num_labels)) #[128, 10]\n",
    "  tf_valid_dataset = tf.constant(valid_dataset)\n",
    "  tf_test_dataset = tf.constant(test_dataset)\n",
    "  \n",
    "  # Variables.\n",
    "  hiddenWeights = tf.Variable(\n",
    "    tf.truncated_normal([image_size * image_size, numHiddenNodes])) #[784, 1024]\n",
    "  hiddenBiases = tf.Variable(tf.zeros([numHiddenNodes])) #[1024]\n",
    "    \n",
    "  hiddenRelu = tf.nn.relu(tf.matmul(tf_train_dataset, hiddenWeights) + hiddenBiases) # [128,784]x[784,1024]=[128, 1024]\n",
    "\n",
    "  outputWeights = tf.Variable(\n",
    "    tf.truncated_normal([numHiddenNodes, num_labels])) #[1024,10]\n",
    "  outputBiases = tf.Variable(tf.zeros([num_labels])) #[10]\n",
    "\n",
    "  # Training computation.\n",
    "  outputLogits = tf.matmul(hiddenRelu, outputWeights) + outputBiases #[128,1024]x[1024,10]=[128,10]\n",
    "  loss = tf.reduce_mean(\n",
    "    tf.nn.softmax_cross_entropy_with_logits(labels=tf_train_labels, logits=outputLogits)) + beta*(tf.nn.l2_loss(hiddenWeights)\n",
    "                                                                                                  +tf.nn.l2_loss(outputWeights))\n",
    "  \n",
    "  # Optimizer.\n",
    "  optimizer = tf.train.GradientDescentOptimizer(0.5).minimize(loss)\n",
    "  \n",
    "  # Predictions for the training, validation, and test data.\n",
    "  train_prediction = tf.nn.softmax(outputLogits)\n",
    "  valid_hidden = tf.nn.relu(tf.matmul(tf_valid_dataset, hiddenWeights) + hiddenBiases)\n",
    "  valid_prediction = tf.nn.softmax(\n",
    "    tf.matmul(valid_hidden, outputWeights) + outputBiases)\n",
    "  test_hidden = tf.nn.relu(tf.matmul(tf_test_dataset, hiddenWeights) + hiddenBiases)\n",
    "  test_prediction = tf.nn.softmax(tf.matmul(test_hidden, outputWeights) + outputBiases)"
   ]
  },
  {
   "cell_type": "code",
   "execution_count": 22,
   "metadata": {
    "collapsed": false,
    "deletable": true,
    "editable": true
   },
   "outputs": [],
   "source": [
    "runSession(graph)\n",
    "runSession(nnGraph)"
   ]
  },
  {
   "cell_type": "markdown",
   "metadata": {
    "colab_type": "text",
    "deletable": true,
    "editable": true,
    "id": "na8xX2yHZzNF"
   },
   "source": [
    "---\n",
    "Problem 2\n",
    "---------\n",
    "Let's demonstrate an extreme case of overfitting. Restrict your training data to just a few batches. What happens?\n",
    "\n",
    "---"
   ]
  },
  {
   "cell_type": "code",
   "execution_count": null,
   "metadata": {
    "collapsed": true,
    "deletable": true,
    "editable": true
   },
   "outputs": [],
   "source": [
    "runSession(nnGraph)"
   ]
  },
  {
   "cell_type": "markdown",
   "metadata": {
    "colab_type": "text",
    "deletable": true,
    "editable": true,
    "id": "ww3SCBUdlkRc"
   },
   "source": [
    "---\n",
    "Problem 3\n",
    "---------\n",
    "Introduce Dropout on the hidden layer of the neural network. Remember: Dropout should only be introduced during training, not evaluation, otherwise your evaluation results would be stochastic as well. TensorFlow provides `nn.dropout()` for that, but you have to make sure it's only inserted during training.\n",
    "\n",
    "What happens to our extreme overfitting case?\n",
    "\n",
    "---"
   ]
  },
  {
   "cell_type": "code",
   "execution_count": 7,
   "metadata": {
    "collapsed": false,
    "deletable": true,
    "editable": true
   },
   "outputs": [],
   "source": [
    "numHiddenNodes = 1024\n",
    "beta = 0.002\n",
    "nnGraph = tf.Graph()\n",
    "with nnGraph.as_default():\n",
    "\n",
    "  # Input data. For the training data, we use a placeholder that will be fed\n",
    "  # at run time with a training minibatch.\n",
    "  tf_train_dataset = tf.placeholder(tf.float32,\n",
    "                                    shape=(batch_size, image_size * image_size)) #[128, 784]\n",
    "  tf_train_labels = tf.placeholder(tf.float32, shape=(batch_size, num_labels)) #[128, 10]\n",
    "  tf_valid_dataset = tf.constant(valid_dataset)\n",
    "  tf_test_dataset = tf.constant(test_dataset)\n",
    "  \n",
    "  # Variables.\n",
    "  hiddenWeights = tf.Variable(\n",
    "    tf.truncated_normal([image_size * image_size, numHiddenNodes])) #[784, 1024]\n",
    "  hiddenBiases = tf.Variable(tf.zeros([numHiddenNodes])) #[1024]\n",
    "    \n",
    "  hiddenRelu = tf.nn.dropout(tf.nn.relu(tf.matmul(tf_train_dataset, hiddenWeights) + hiddenBiases), keep_prob=0.5) # [128,784]x[784,1024]=[128, 1024]\n",
    "\n",
    "  outputWeights = tf.Variable(\n",
    "    tf.truncated_normal([numHiddenNodes, num_labels])) #[1024,10]\n",
    "  outputBiases = tf.Variable(tf.zeros([num_labels])) #[10]\n",
    "\n",
    "  # Training computation.\n",
    "  outputLogits = tf.matmul(hiddenRelu, outputWeights) + outputBiases #[128,1024]x[1024,10]=[128,10]\n",
    "  loss = tf.reduce_mean(\n",
    "    tf.nn.softmax_cross_entropy_with_logits(labels=tf_train_labels, logits=outputLogits)) #+ beta*(tf.nn.l2_loss(hiddenWeights)\n",
    "                                                                                                  #+tf.nn.l2_loss(outputWeights))\n",
    "  \n",
    "  # Optimizer.\n",
    "  optimizer = tf.train.GradientDescentOptimizer(0.5).minimize(loss)\n",
    "  \n",
    "  # Predictions for the training, validation, and test data.\n",
    "  train_hidden = tf.nn.relu(tf.matmul(tf_train_dataset, hiddenWeights) + hiddenBiases)\n",
    "  train_prediction = tf.nn.softmax(\n",
    "    tf.matmul(train_hidden, outputWeights) + outputBiases)\n",
    "  valid_hidden = tf.nn.relu(tf.matmul(tf_valid_dataset, hiddenWeights) + hiddenBiases)\n",
    "  valid_prediction = tf.nn.softmax(\n",
    "    tf.matmul(valid_hidden, outputWeights) + outputBiases)\n",
    "  test_hidden = tf.nn.relu(tf.matmul(tf_test_dataset, hiddenWeights) + hiddenBiases)\n",
    "  test_prediction = tf.nn.softmax(tf.matmul(test_hidden, outputWeights) + outputBiases)"
   ]
  },
  {
   "cell_type": "code",
   "execution_count": 8,
   "metadata": {
    "collapsed": false,
    "deletable": true,
    "editable": true
   },
   "outputs": [
    {
     "name": "stdout",
     "output_type": "stream",
     "text": [
      "Initialized\n",
      "Minibatch loss at step 0: 437.984863\n",
      "Minibatch accuracy: 14.8%\n",
      "Validation accuracy: 31.8%\n",
      "Minibatch loss at step 500: 29.761795\n",
      "Minibatch accuracy: 77.3%\n",
      "Validation accuracy: 80.6%\n",
      "Minibatch loss at step 1000: 25.692440\n",
      "Minibatch accuracy: 71.1%\n",
      "Validation accuracy: 79.4%\n",
      "Minibatch loss at step 1500: 10.936906\n",
      "Minibatch accuracy: 82.0%\n",
      "Validation accuracy: 79.8%\n",
      "Minibatch loss at step 2000: 10.848547\n",
      "Minibatch accuracy: 86.7%\n",
      "Validation accuracy: 80.0%\n",
      "Minibatch loss at step 2500: 11.186253\n",
      "Minibatch accuracy: 80.5%\n",
      "Validation accuracy: 80.0%\n",
      "Minibatch loss at step 3000: 4.625934\n",
      "Minibatch accuracy: 78.1%\n",
      "Validation accuracy: 79.8%\n",
      "Minibatch loss at step 3500: 2.740664\n",
      "Minibatch accuracy: 81.2%\n",
      "Validation accuracy: 80.7%\n",
      "Minibatch loss at step 4000: 3.802878\n",
      "Minibatch accuracy: 82.0%\n",
      "Validation accuracy: 79.9%\n",
      "Minibatch loss at step 4500: 6.610671\n",
      "Minibatch accuracy: 76.6%\n",
      "Validation accuracy: 81.3%\n",
      "Minibatch loss at step 5000: 6.493934\n",
      "Minibatch accuracy: 81.2%\n",
      "Validation accuracy: 80.7%\n",
      "Minibatch loss at step 5500: 3.526589\n",
      "Minibatch accuracy: 80.5%\n",
      "Validation accuracy: 81.1%\n",
      "Minibatch loss at step 6000: 2.436818\n",
      "Minibatch accuracy: 86.7%\n",
      "Validation accuracy: 81.5%\n",
      "Minibatch loss at step 6500: 3.124257\n",
      "Minibatch accuracy: 80.5%\n",
      "Validation accuracy: 81.3%\n",
      "Minibatch loss at step 7000: 7.448037\n",
      "Minibatch accuracy: 79.7%\n",
      "Validation accuracy: 81.7%\n",
      "Minibatch loss at step 7500: 1.921387\n",
      "Minibatch accuracy: 86.7%\n",
      "Validation accuracy: 81.7%\n",
      "Minibatch loss at step 8000: 1.619273\n",
      "Minibatch accuracy: 78.9%\n",
      "Validation accuracy: 82.0%\n",
      "Minibatch loss at step 8500: 2.225639\n",
      "Minibatch accuracy: 79.7%\n",
      "Validation accuracy: 82.1%\n",
      "Minibatch loss at step 9000: 1.530645\n",
      "Minibatch accuracy: 83.6%\n",
      "Validation accuracy: 82.7%\n",
      "Minibatch loss at step 9500: 2.981164\n",
      "Minibatch accuracy: 85.2%\n",
      "Validation accuracy: 82.0%\n",
      "Minibatch loss at step 10000: 1.659541\n",
      "Minibatch accuracy: 82.0%\n",
      "Validation accuracy: 83.0%\n",
      "Test accuracy: 88.5%\n"
     ]
    }
   ],
   "source": [
    "runSession(nnGraph)"
   ]
  },
  {
   "cell_type": "markdown",
   "metadata": {
    "colab_type": "text",
    "deletable": true,
    "editable": true,
    "id": "-b1hTz3VWZjw"
   },
   "source": [
    "---\n",
    "Problem 4\n",
    "---------\n",
    "\n",
    "Try to get the best performance you can using a multi-layer model! The best reported test accuracy using a deep network is [97.1%](http://yaroslavvb.blogspot.com/2011/09/notmnist-dataset.html?showComment=1391023266211#c8758720086795711595).\n",
    "\n",
    "One avenue you can explore is to add multiple layers.\n",
    "\n",
    "Another one is to use learning rate decay:\n",
    "\n",
    "    global_step = tf.Variable(0)  # count the number of steps taken.\n",
    "    learning_rate = tf.train.exponential_decay(0.5, global_step, ...)\n",
    "    optimizer = tf.train.GradientDescentOptimizer(learning_rate).minimize(loss, global_step=global_step)\n",
    " \n",
    " ---\n"
   ]
  },
  {
   "cell_type": "code",
   "execution_count": 169,
   "metadata": {
    "collapsed": false,
    "deletable": true,
    "editable": true
   },
   "outputs": [],
   "source": [
    "layer1Nodes = 1024\n",
    "layer2Nodes = 1024\n",
    "layer3Nodes = 256\n",
    "layer4Nodes = 64\n",
    "beta = 0.002\n",
    "initial_learning_rate_value = 0.5\n",
    "nnGraph = tf.Graph()\n",
    "\n",
    "def feedForward(inputData, paramList=[]):\n",
    "    activation = inputData\n",
    "    for weights, bias in paramList:\n",
    "        activation = tf.nn.relu(tf.matmul(activation, weights) + bias)\n",
    "    return activation\n",
    "    \n",
    "def computeL2Loss(weightList=[]):\n",
    "    lossSum = 0\n",
    "    for weights in weightList:\n",
    "        lossSum += tf.nn.l2_loss(weights)\n",
    "        \n",
    "    return beta*lossSum\n",
    "    \n",
    "def fullyConnectedLayer(inputData, dataSize, numNodes, keepProb=0.5):\n",
    "    hiddenWeights = tf.Variable(\n",
    "    tf.truncated_normal([dataSize, numNodes], stddev=math.sqrt(2.0/dataSize))) #[784, 1024]\n",
    "    hiddenBiases = tf.Variable(tf.zeros([numNodes])) #[1024]\n",
    "    \n",
    "    return tf.nn.dropout(tf.nn.relu(tf.matmul(inputData, hiddenWeights) + hiddenBiases), \n",
    "                         keep_prob=keepProb), hiddenWeights, hiddenBiases\n",
    "    #return tf.nn.relu(tf.matmul(inputData, hiddenWeights) + hiddenBiases), hiddenWeights, hiddenBiases  \n",
    "\n",
    "with nnGraph.as_default():\n",
    "\n",
    "  # Input data. For the training data, we use a placeholder that will be fed\n",
    "  # at run time with a training minibatch.\n",
    "  tf_train_dataset = tf.placeholder(tf.float32,\n",
    "                                    shape=(batch_size, image_size * image_size)) #[128, 784]\n",
    "  tf_train_labels = tf.placeholder(tf.float32, shape=(batch_size, num_labels)) #[128, 10]\n",
    "  tf_valid_dataset = tf.constant(valid_dataset)\n",
    "  tf_test_dataset = tf.constant(test_dataset)\n",
    "  \n",
    "  # Variables.\n",
    "  layer1Relu, layer1Weights, layer1Bias = fullyConnectedLayer(tf_train_dataset, image_size*image_size, layer1Nodes, 0.5)\n",
    "  layer2Relu, layer2Weights, layer2Bias = fullyConnectedLayer(layer1Relu, layer1Nodes, layer2Nodes, 0.75)\n",
    "  layer3Relu, layer3Weights, layer3Bias = fullyConnectedLayer(layer2Relu, layer2Nodes, layer3Nodes, 0.8)\n",
    "  layer4Relu, layer4Weights, layer4Bias = fullyConnectedLayer(layer3Relu, layer3Nodes, layer4Nodes, 0.9)\n",
    "\n",
    "  outputWeights = tf.Variable(\n",
    "    tf.truncated_normal([layer4Nodes, num_labels], stddev=math.sqrt(2.0/layer4Nodes))) #[1024,10]\n",
    "  outputBiases = tf.Variable(tf.zeros([num_labels])) #[10]\n",
    "\n",
    "  # Training computation.\n",
    "  outputLogits = tf.matmul(layer4Relu, outputWeights) + outputBiases #[128,1024]x[1024,10]=[128,10]\n",
    "  loss = tf.reduce_mean(\n",
    "    tf.nn.softmax_cross_entropy_with_logits(labels=tf_train_labels, \n",
    "                                            logits=outputLogits)) + computeL2Loss([layer1Weights, \n",
    "                                                                                   layer2Weights, layer3Weights, layer4Weights, outputWeights])\n",
    "  # Optimizer.\n",
    "  global_step = tf.Variable(0)\n",
    "  learning_rate = tf.train.exponential_decay(initial_learning_rate_value, global_step, 1, 0.9999)\n",
    "\n",
    "  optimizer = tf.train.GradientDescentOptimizer(learning_rate).minimize(loss, global_step=global_step)\n",
    "  \n",
    "  # Predictions for the training, validation, and test data.\n",
    "  paramList = [(layer1Weights, layer1Bias), (layer2Weights, layer2Bias), (layer3Weights, layer3Bias), (layer4Weights, layer4Bias)]\n",
    "  #paramList = [(layer2Weights, layer2Bias)]\n",
    "  train_hidden = feedForward(tf_train_dataset, paramList)\n",
    "  train_prediction = tf.nn.softmax(\n",
    "    tf.matmul(train_hidden, outputWeights) + outputBiases)\n",
    "  valid_hidden = feedForward(tf_valid_dataset, paramList)\n",
    "  valid_prediction = tf.nn.softmax(\n",
    "    tf.matmul(valid_hidden, outputWeights) + outputBiases)\n",
    "  test_hidden = feedForward(tf_test_dataset, paramList)\n",
    "  test_prediction = tf.nn.softmax(tf.matmul(test_hidden, outputWeights) + outputBiases)"
   ]
  },
  {
   "cell_type": "code",
   "execution_count": 170,
   "metadata": {
    "collapsed": false,
    "deletable": true,
    "editable": true
   },
   "outputs": [
    {
     "name": "stdout",
     "output_type": "stream",
     "text": [
      "Initialized\n",
      "Minibatch loss at step 0: 6.332182\n",
      "Minibatch accuracy: 7.8%\n",
      "Validation accuracy: 13.8%\n",
      "Minibatch loss at step 500: 2.177239\n",
      "Minibatch accuracy: 82.8%\n",
      "Validation accuracy: 84.5%\n",
      "Minibatch loss at step 1000: 1.408041\n",
      "Minibatch accuracy: 77.3%\n",
      "Validation accuracy: 85.0%\n",
      "Minibatch loss at step 1500: 0.906124\n",
      "Minibatch accuracy: 85.9%\n",
      "Validation accuracy: 85.3%\n",
      "Minibatch loss at step 2000: 0.678983\n",
      "Minibatch accuracy: 87.5%\n",
      "Validation accuracy: 86.8%\n",
      "Minibatch loss at step 2500: 0.819011\n",
      "Minibatch accuracy: 84.4%\n",
      "Validation accuracy: 86.4%\n",
      "Minibatch loss at step 3000: 0.868221\n",
      "Minibatch accuracy: 81.2%\n",
      "Validation accuracy: 86.3%\n",
      "Minibatch loss at step 3500: 0.560578\n",
      "Minibatch accuracy: 89.1%\n",
      "Validation accuracy: 87.2%\n",
      "Minibatch loss at step 4000: 0.783317\n",
      "Minibatch accuracy: 82.8%\n",
      "Validation accuracy: 87.4%\n",
      "Minibatch loss at step 4500: 0.706017\n",
      "Minibatch accuracy: 82.8%\n",
      "Validation accuracy: 87.5%\n",
      "Minibatch loss at step 5000: 0.521253\n",
      "Minibatch accuracy: 90.6%\n",
      "Validation accuracy: 87.7%\n",
      "Minibatch loss at step 5500: 0.738851\n",
      "Minibatch accuracy: 83.6%\n",
      "Validation accuracy: 87.9%\n",
      "Minibatch loss at step 6000: 0.643678\n",
      "Minibatch accuracy: 83.6%\n",
      "Validation accuracy: 87.0%\n",
      "Minibatch loss at step 6500: 0.672441\n",
      "Minibatch accuracy: 85.9%\n",
      "Validation accuracy: 87.9%\n",
      "Minibatch loss at step 7000: 0.709620\n",
      "Minibatch accuracy: 85.9%\n",
      "Validation accuracy: 88.4%\n",
      "Minibatch loss at step 7500: 0.549610\n",
      "Minibatch accuracy: 89.1%\n",
      "Validation accuracy: 88.3%\n",
      "Minibatch loss at step 8000: 0.683026\n",
      "Minibatch accuracy: 83.6%\n",
      "Validation accuracy: 88.4%\n",
      "Minibatch loss at step 8500: 0.634521\n",
      "Minibatch accuracy: 83.6%\n",
      "Validation accuracy: 88.7%\n",
      "Minibatch loss at step 9000: 0.599497\n",
      "Minibatch accuracy: 88.3%\n",
      "Validation accuracy: 88.0%\n",
      "Minibatch loss at step 9500: 0.683814\n",
      "Minibatch accuracy: 84.4%\n",
      "Validation accuracy: 88.6%\n",
      "Minibatch loss at step 10000: 0.553290\n",
      "Minibatch accuracy: 90.6%\n",
      "Validation accuracy: 88.5%\n",
      "Test accuracy: 93.8%\n"
     ]
    }
   ],
   "source": [
    "runSession(nnGraph)"
   ]
  },
  {
   "cell_type": "code",
   "execution_count": null,
   "metadata": {
    "collapsed": true,
    "deletable": true,
    "editable": true
   },
   "outputs": [],
   "source": []
  }
 ],
 "metadata": {
  "colab": {
   "default_view": {},
   "name": "3_regularization.ipynb",
   "provenance": [],
   "version": "0.3.2",
   "views": {}
  },
  "kernelspec": {
   "display_name": "Python 2",
   "language": "python",
   "name": "python2"
  },
  "language_info": {
   "codemirror_mode": {
    "name": "ipython",
    "version": 2
   },
   "file_extension": ".py",
   "mimetype": "text/x-python",
   "name": "python",
   "nbconvert_exporter": "python",
   "pygments_lexer": "ipython2",
   "version": "2.7.6"
  }
 },
 "nbformat": 4,
 "nbformat_minor": 0
}
